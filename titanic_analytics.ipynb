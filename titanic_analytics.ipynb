{
 "cells": [
  {
   "cell_type": "markdown",
   "id": "4f98ca53-3f93-426f-9484-ad887fe94b26",
   "metadata": {},
   "source": [
    "🚢 Titanic Dataset Analytics 🚢 @Keerati-Deja\n",
    "\n",
    "1. Check for missing values (NaN) in each column\n",
    "2. Analyze data in each (significant) column \n",
    "3. Deal with missing values (NaN) in each column\n",
    "\n",
    "4. After dealing with NaN, reanalyze the most important column (Survived)"
   ]
  },
  {
   "cell_type": "code",
   "execution_count": 168,
   "id": "35527a36-5cff-411a-a0ee-c8f2fa03cfe9",
   "metadata": {},
   "outputs": [],
   "source": [
    "import pandas as pd\n",
    "import numpy as np\n",
    "\n",
    "import matplotlib.pyplot as plt\n",
    "import seaborn as sns"
   ]
  },
  {
   "cell_type": "code",
   "execution_count": 169,
   "id": "3f3daca9-c275-40d3-8482-095b74bad1df",
   "metadata": {
    "tags": []
   },
   "outputs": [
    {
     "data": {
      "text/html": [
       "<div>\n",
       "<style scoped>\n",
       "    .dataframe tbody tr th:only-of-type {\n",
       "        vertical-align: middle;\n",
       "    }\n",
       "\n",
       "    .dataframe tbody tr th {\n",
       "        vertical-align: top;\n",
       "    }\n",
       "\n",
       "    .dataframe thead th {\n",
       "        text-align: right;\n",
       "    }\n",
       "</style>\n",
       "<table border=\"1\" class=\"dataframe\">\n",
       "  <thead>\n",
       "    <tr style=\"text-align: right;\">\n",
       "      <th></th>\n",
       "      <th>pclass</th>\n",
       "      <th>survived</th>\n",
       "      <th>name</th>\n",
       "      <th>sex</th>\n",
       "      <th>age</th>\n",
       "      <th>sibsp</th>\n",
       "      <th>parch</th>\n",
       "      <th>ticket</th>\n",
       "      <th>fare</th>\n",
       "      <th>cabin</th>\n",
       "      <th>embarked</th>\n",
       "      <th>boat</th>\n",
       "      <th>body</th>\n",
       "      <th>home.dest</th>\n",
       "    </tr>\n",
       "  </thead>\n",
       "  <tbody>\n",
       "    <tr>\n",
       "      <th>0</th>\n",
       "      <td>1.0</td>\n",
       "      <td>1.0</td>\n",
       "      <td>Allen, Miss. Elisabeth Walton</td>\n",
       "      <td>female</td>\n",
       "      <td>29.0000</td>\n",
       "      <td>0.0</td>\n",
       "      <td>0.0</td>\n",
       "      <td>24160</td>\n",
       "      <td>211.3375</td>\n",
       "      <td>B5</td>\n",
       "      <td>S</td>\n",
       "      <td>2</td>\n",
       "      <td>NaN</td>\n",
       "      <td>St Louis, MO</td>\n",
       "    </tr>\n",
       "    <tr>\n",
       "      <th>1</th>\n",
       "      <td>1.0</td>\n",
       "      <td>1.0</td>\n",
       "      <td>Allison, Master. Hudson Trevor</td>\n",
       "      <td>male</td>\n",
       "      <td>0.9167</td>\n",
       "      <td>1.0</td>\n",
       "      <td>2.0</td>\n",
       "      <td>113781</td>\n",
       "      <td>151.5500</td>\n",
       "      <td>C22 C26</td>\n",
       "      <td>S</td>\n",
       "      <td>11</td>\n",
       "      <td>NaN</td>\n",
       "      <td>Montreal, PQ / Chesterville, ON</td>\n",
       "    </tr>\n",
       "    <tr>\n",
       "      <th>2</th>\n",
       "      <td>1.0</td>\n",
       "      <td>0.0</td>\n",
       "      <td>Allison, Miss. Helen Loraine</td>\n",
       "      <td>female</td>\n",
       "      <td>2.0000</td>\n",
       "      <td>1.0</td>\n",
       "      <td>2.0</td>\n",
       "      <td>113781</td>\n",
       "      <td>151.5500</td>\n",
       "      <td>C22 C26</td>\n",
       "      <td>S</td>\n",
       "      <td>NaN</td>\n",
       "      <td>NaN</td>\n",
       "      <td>Montreal, PQ / Chesterville, ON</td>\n",
       "    </tr>\n",
       "    <tr>\n",
       "      <th>3</th>\n",
       "      <td>1.0</td>\n",
       "      <td>0.0</td>\n",
       "      <td>Allison, Mr. Hudson Joshua Creighton</td>\n",
       "      <td>male</td>\n",
       "      <td>30.0000</td>\n",
       "      <td>1.0</td>\n",
       "      <td>2.0</td>\n",
       "      <td>113781</td>\n",
       "      <td>151.5500</td>\n",
       "      <td>C22 C26</td>\n",
       "      <td>S</td>\n",
       "      <td>NaN</td>\n",
       "      <td>135.0</td>\n",
       "      <td>Montreal, PQ / Chesterville, ON</td>\n",
       "    </tr>\n",
       "    <tr>\n",
       "      <th>4</th>\n",
       "      <td>1.0</td>\n",
       "      <td>0.0</td>\n",
       "      <td>Allison, Mrs. Hudson J C (Bessie Waldo Daniels)</td>\n",
       "      <td>female</td>\n",
       "      <td>25.0000</td>\n",
       "      <td>1.0</td>\n",
       "      <td>2.0</td>\n",
       "      <td>113781</td>\n",
       "      <td>151.5500</td>\n",
       "      <td>C22 C26</td>\n",
       "      <td>S</td>\n",
       "      <td>NaN</td>\n",
       "      <td>NaN</td>\n",
       "      <td>Montreal, PQ / Chesterville, ON</td>\n",
       "    </tr>\n",
       "    <tr>\n",
       "      <th>...</th>\n",
       "      <td>...</td>\n",
       "      <td>...</td>\n",
       "      <td>...</td>\n",
       "      <td>...</td>\n",
       "      <td>...</td>\n",
       "      <td>...</td>\n",
       "      <td>...</td>\n",
       "      <td>...</td>\n",
       "      <td>...</td>\n",
       "      <td>...</td>\n",
       "      <td>...</td>\n",
       "      <td>...</td>\n",
       "      <td>...</td>\n",
       "      <td>...</td>\n",
       "    </tr>\n",
       "    <tr>\n",
       "      <th>1304</th>\n",
       "      <td>3.0</td>\n",
       "      <td>0.0</td>\n",
       "      <td>Zabour, Miss. Hileni</td>\n",
       "      <td>female</td>\n",
       "      <td>14.5000</td>\n",
       "      <td>1.0</td>\n",
       "      <td>0.0</td>\n",
       "      <td>2665</td>\n",
       "      <td>14.4542</td>\n",
       "      <td>NaN</td>\n",
       "      <td>C</td>\n",
       "      <td>NaN</td>\n",
       "      <td>328.0</td>\n",
       "      <td>NaN</td>\n",
       "    </tr>\n",
       "    <tr>\n",
       "      <th>1305</th>\n",
       "      <td>3.0</td>\n",
       "      <td>0.0</td>\n",
       "      <td>Zabour, Miss. Thamine</td>\n",
       "      <td>female</td>\n",
       "      <td>NaN</td>\n",
       "      <td>1.0</td>\n",
       "      <td>0.0</td>\n",
       "      <td>2665</td>\n",
       "      <td>14.4542</td>\n",
       "      <td>NaN</td>\n",
       "      <td>C</td>\n",
       "      <td>NaN</td>\n",
       "      <td>NaN</td>\n",
       "      <td>NaN</td>\n",
       "    </tr>\n",
       "    <tr>\n",
       "      <th>1306</th>\n",
       "      <td>3.0</td>\n",
       "      <td>0.0</td>\n",
       "      <td>Zakarian, Mr. Mapriededer</td>\n",
       "      <td>male</td>\n",
       "      <td>26.5000</td>\n",
       "      <td>0.0</td>\n",
       "      <td>0.0</td>\n",
       "      <td>2656</td>\n",
       "      <td>7.2250</td>\n",
       "      <td>NaN</td>\n",
       "      <td>C</td>\n",
       "      <td>NaN</td>\n",
       "      <td>304.0</td>\n",
       "      <td>NaN</td>\n",
       "    </tr>\n",
       "    <tr>\n",
       "      <th>1307</th>\n",
       "      <td>3.0</td>\n",
       "      <td>0.0</td>\n",
       "      <td>Zakarian, Mr. Ortin</td>\n",
       "      <td>male</td>\n",
       "      <td>27.0000</td>\n",
       "      <td>0.0</td>\n",
       "      <td>0.0</td>\n",
       "      <td>2670</td>\n",
       "      <td>7.2250</td>\n",
       "      <td>NaN</td>\n",
       "      <td>C</td>\n",
       "      <td>NaN</td>\n",
       "      <td>NaN</td>\n",
       "      <td>NaN</td>\n",
       "    </tr>\n",
       "    <tr>\n",
       "      <th>1308</th>\n",
       "      <td>3.0</td>\n",
       "      <td>0.0</td>\n",
       "      <td>Zimmerman, Mr. Leo</td>\n",
       "      <td>male</td>\n",
       "      <td>29.0000</td>\n",
       "      <td>0.0</td>\n",
       "      <td>0.0</td>\n",
       "      <td>315082</td>\n",
       "      <td>7.8750</td>\n",
       "      <td>NaN</td>\n",
       "      <td>S</td>\n",
       "      <td>NaN</td>\n",
       "      <td>NaN</td>\n",
       "      <td>NaN</td>\n",
       "    </tr>\n",
       "  </tbody>\n",
       "</table>\n",
       "<p>1309 rows × 14 columns</p>\n",
       "</div>"
      ],
      "text/plain": [
       "      pclass  survived                                             name  \\\n",
       "0        1.0       1.0                    Allen, Miss. Elisabeth Walton   \n",
       "1        1.0       1.0                   Allison, Master. Hudson Trevor   \n",
       "2        1.0       0.0                     Allison, Miss. Helen Loraine   \n",
       "3        1.0       0.0             Allison, Mr. Hudson Joshua Creighton   \n",
       "4        1.0       0.0  Allison, Mrs. Hudson J C (Bessie Waldo Daniels)   \n",
       "...      ...       ...                                              ...   \n",
       "1304     3.0       0.0                             Zabour, Miss. Hileni   \n",
       "1305     3.0       0.0                            Zabour, Miss. Thamine   \n",
       "1306     3.0       0.0                        Zakarian, Mr. Mapriededer   \n",
       "1307     3.0       0.0                              Zakarian, Mr. Ortin   \n",
       "1308     3.0       0.0                               Zimmerman, Mr. Leo   \n",
       "\n",
       "         sex      age  sibsp  parch  ticket      fare    cabin embarked boat  \\\n",
       "0     female  29.0000    0.0    0.0   24160  211.3375       B5        S    2   \n",
       "1       male   0.9167    1.0    2.0  113781  151.5500  C22 C26        S   11   \n",
       "2     female   2.0000    1.0    2.0  113781  151.5500  C22 C26        S  NaN   \n",
       "3       male  30.0000    1.0    2.0  113781  151.5500  C22 C26        S  NaN   \n",
       "4     female  25.0000    1.0    2.0  113781  151.5500  C22 C26        S  NaN   \n",
       "...      ...      ...    ...    ...     ...       ...      ...      ...  ...   \n",
       "1304  female  14.5000    1.0    0.0    2665   14.4542      NaN        C  NaN   \n",
       "1305  female      NaN    1.0    0.0    2665   14.4542      NaN        C  NaN   \n",
       "1306    male  26.5000    0.0    0.0    2656    7.2250      NaN        C  NaN   \n",
       "1307    male  27.0000    0.0    0.0    2670    7.2250      NaN        C  NaN   \n",
       "1308    male  29.0000    0.0    0.0  315082    7.8750      NaN        S  NaN   \n",
       "\n",
       "       body                        home.dest  \n",
       "0       NaN                     St Louis, MO  \n",
       "1       NaN  Montreal, PQ / Chesterville, ON  \n",
       "2       NaN  Montreal, PQ / Chesterville, ON  \n",
       "3     135.0  Montreal, PQ / Chesterville, ON  \n",
       "4       NaN  Montreal, PQ / Chesterville, ON  \n",
       "...     ...                              ...  \n",
       "1304  328.0                              NaN  \n",
       "1305    NaN                              NaN  \n",
       "1306  304.0                              NaN  \n",
       "1307    NaN                              NaN  \n",
       "1308    NaN                              NaN  \n",
       "\n",
       "[1309 rows x 14 columns]"
      ]
     },
     "execution_count": 169,
     "metadata": {},
     "output_type": "execute_result"
    }
   ],
   "source": [
    "# Original Dataset\n",
    "df = pd.read_csv('titanic_dataset.csv')\n",
    "df"
   ]
  },
  {
   "cell_type": "code",
   "execution_count": 170,
   "id": "4821d8bf-aa31-4617-8b5a-4c10771ed5ed",
   "metadata": {},
   "outputs": [
    {
     "name": "stdout",
     "output_type": "stream",
     "text": [
      "<class 'pandas.core.frame.DataFrame'>\n",
      "RangeIndex: 1309 entries, 0 to 1308\n",
      "Data columns (total 14 columns):\n",
      " #   Column     Non-Null Count  Dtype  \n",
      "---  ------     --------------  -----  \n",
      " 0   pclass     1309 non-null   float64\n",
      " 1   survived   1309 non-null   float64\n",
      " 2   name       1309 non-null   object \n",
      " 3   sex        1309 non-null   object \n",
      " 4   age        1046 non-null   float64\n",
      " 5   sibsp      1309 non-null   float64\n",
      " 6   parch      1309 non-null   float64\n",
      " 7   ticket     1309 non-null   object \n",
      " 8   fare       1308 non-null   float64\n",
      " 9   cabin      295 non-null    object \n",
      " 10  embarked   1307 non-null   object \n",
      " 11  boat       486 non-null    object \n",
      " 12  body       121 non-null    float64\n",
      " 13  home.dest  745 non-null    object \n",
      "dtypes: float64(7), object(7)\n",
      "memory usage: 143.3+ KB\n"
     ]
    }
   ],
   "source": [
    "df.info()"
   ]
  },
  {
   "cell_type": "code",
   "execution_count": 171,
   "id": "626ae0f1-98fd-405c-9e82-e8da7c3af74c",
   "metadata": {
    "tags": []
   },
   "outputs": [
    {
     "data": {
      "text/plain": [
       "pclass       float64\n",
       "survived     float64\n",
       "name          object\n",
       "sex           object\n",
       "age          float64\n",
       "sibsp        float64\n",
       "parch        float64\n",
       "ticket        object\n",
       "fare         float64\n",
       "cabin         object\n",
       "embarked      object\n",
       "boat          object\n",
       "body         float64\n",
       "home.dest     object\n",
       "dtype: object"
      ]
     },
     "execution_count": 171,
     "metadata": {},
     "output_type": "execute_result"
    }
   ],
   "source": [
    "df.dtypes"
   ]
  },
  {
   "cell_type": "code",
   "execution_count": 172,
   "id": "e5f98334-1994-4bea-ab61-6a2cd9f5fae6",
   "metadata": {},
   "outputs": [
    {
     "data": {
      "text/html": [
       "<div>\n",
       "<style scoped>\n",
       "    .dataframe tbody tr th:only-of-type {\n",
       "        vertical-align: middle;\n",
       "    }\n",
       "\n",
       "    .dataframe tbody tr th {\n",
       "        vertical-align: top;\n",
       "    }\n",
       "\n",
       "    .dataframe thead th {\n",
       "        text-align: right;\n",
       "    }\n",
       "</style>\n",
       "<table border=\"1\" class=\"dataframe\">\n",
       "  <thead>\n",
       "    <tr style=\"text-align: right;\">\n",
       "      <th></th>\n",
       "      <th>pclass</th>\n",
       "      <th>survived</th>\n",
       "      <th>age</th>\n",
       "      <th>sibsp</th>\n",
       "      <th>parch</th>\n",
       "      <th>fare</th>\n",
       "      <th>body</th>\n",
       "    </tr>\n",
       "  </thead>\n",
       "  <tbody>\n",
       "    <tr>\n",
       "      <th>count</th>\n",
       "      <td>1309.000000</td>\n",
       "      <td>1309.000000</td>\n",
       "      <td>1046.000000</td>\n",
       "      <td>1309.000000</td>\n",
       "      <td>1309.000000</td>\n",
       "      <td>1308.000000</td>\n",
       "      <td>121.000000</td>\n",
       "    </tr>\n",
       "    <tr>\n",
       "      <th>mean</th>\n",
       "      <td>2.294882</td>\n",
       "      <td>0.381971</td>\n",
       "      <td>29.881135</td>\n",
       "      <td>0.498854</td>\n",
       "      <td>0.385027</td>\n",
       "      <td>33.295479</td>\n",
       "      <td>160.809917</td>\n",
       "    </tr>\n",
       "    <tr>\n",
       "      <th>std</th>\n",
       "      <td>0.837836</td>\n",
       "      <td>0.486055</td>\n",
       "      <td>14.413500</td>\n",
       "      <td>1.041658</td>\n",
       "      <td>0.865560</td>\n",
       "      <td>51.758668</td>\n",
       "      <td>97.696922</td>\n",
       "    </tr>\n",
       "    <tr>\n",
       "      <th>min</th>\n",
       "      <td>1.000000</td>\n",
       "      <td>0.000000</td>\n",
       "      <td>0.166700</td>\n",
       "      <td>0.000000</td>\n",
       "      <td>0.000000</td>\n",
       "      <td>0.000000</td>\n",
       "      <td>1.000000</td>\n",
       "    </tr>\n",
       "    <tr>\n",
       "      <th>25%</th>\n",
       "      <td>2.000000</td>\n",
       "      <td>0.000000</td>\n",
       "      <td>21.000000</td>\n",
       "      <td>0.000000</td>\n",
       "      <td>0.000000</td>\n",
       "      <td>7.895800</td>\n",
       "      <td>72.000000</td>\n",
       "    </tr>\n",
       "    <tr>\n",
       "      <th>50%</th>\n",
       "      <td>3.000000</td>\n",
       "      <td>0.000000</td>\n",
       "      <td>28.000000</td>\n",
       "      <td>0.000000</td>\n",
       "      <td>0.000000</td>\n",
       "      <td>14.454200</td>\n",
       "      <td>155.000000</td>\n",
       "    </tr>\n",
       "    <tr>\n",
       "      <th>75%</th>\n",
       "      <td>3.000000</td>\n",
       "      <td>1.000000</td>\n",
       "      <td>39.000000</td>\n",
       "      <td>1.000000</td>\n",
       "      <td>0.000000</td>\n",
       "      <td>31.275000</td>\n",
       "      <td>256.000000</td>\n",
       "    </tr>\n",
       "    <tr>\n",
       "      <th>max</th>\n",
       "      <td>3.000000</td>\n",
       "      <td>1.000000</td>\n",
       "      <td>80.000000</td>\n",
       "      <td>8.000000</td>\n",
       "      <td>9.000000</td>\n",
       "      <td>512.329200</td>\n",
       "      <td>328.000000</td>\n",
       "    </tr>\n",
       "  </tbody>\n",
       "</table>\n",
       "</div>"
      ],
      "text/plain": [
       "            pclass     survived          age        sibsp        parch  \\\n",
       "count  1309.000000  1309.000000  1046.000000  1309.000000  1309.000000   \n",
       "mean      2.294882     0.381971    29.881135     0.498854     0.385027   \n",
       "std       0.837836     0.486055    14.413500     1.041658     0.865560   \n",
       "min       1.000000     0.000000     0.166700     0.000000     0.000000   \n",
       "25%       2.000000     0.000000    21.000000     0.000000     0.000000   \n",
       "50%       3.000000     0.000000    28.000000     0.000000     0.000000   \n",
       "75%       3.000000     1.000000    39.000000     1.000000     0.000000   \n",
       "max       3.000000     1.000000    80.000000     8.000000     9.000000   \n",
       "\n",
       "              fare        body  \n",
       "count  1308.000000  121.000000  \n",
       "mean     33.295479  160.809917  \n",
       "std      51.758668   97.696922  \n",
       "min       0.000000    1.000000  \n",
       "25%       7.895800   72.000000  \n",
       "50%      14.454200  155.000000  \n",
       "75%      31.275000  256.000000  \n",
       "max     512.329200  328.000000  "
      ]
     },
     "execution_count": 172,
     "metadata": {},
     "output_type": "execute_result"
    }
   ],
   "source": [
    "df.describe()"
   ]
  },
  {
   "cell_type": "markdown",
   "id": "a8f81db3-4b1a-4bf3-b7aa-67105e904f6d",
   "metadata": {},
   "source": [
    "NOTE:\n",
    "Statistic values are available for columns containing numerical values only."
   ]
  },
  {
   "cell_type": "code",
   "execution_count": 173,
   "id": "a29e27e3-b7a5-4707-91a1-d559d1dc50e1",
   "metadata": {},
   "outputs": [
    {
     "data": {
      "text/plain": [
       "Index(['pclass', 'survived', 'name', 'sex', 'age', 'sibsp', 'parch', 'ticket',\n",
       "       'fare', 'cabin', 'embarked', 'boat', 'body', 'home.dest'],\n",
       "      dtype='object')"
      ]
     },
     "execution_count": 173,
     "metadata": {},
     "output_type": "execute_result"
    }
   ],
   "source": [
    "# List all columns in the dataset\n",
    "df.columns"
   ]
  },
  {
   "cell_type": "markdown",
   "id": "5671d85f-4ba6-4182-baa1-b664394731f7",
   "metadata": {
    "tags": []
   },
   "source": [
    "📝 Column Description 📝\n",
    "\n",
    "👉🏻 index 0 : pclass {1 = 1st, 2 = 2nd, 3 = 3rd} \\\n",
    "👉🏻 index 1 : survived {0 = no, 1 = yes} \\\n",
    "👉🏻 index 2 : name \\\n",
    "👉🏻 index 3 : sex {male, female} \\\n",
    "👉🏻 index 4 : age \\\n",
    "👉🏻 index 5 : sibsp (number of siblings/spouses abroad) \\\n",
    "👉🏻 index 6 : parch (number of parents/children abroad) \\\n",
    "👉🏻 index 7 : ticket \\\n",
    "👉🏻 index 8 : fare (passenger fare) \\\n",
    "👉🏻 index 9 : cabin \\\n",
    "👉🏻 index 10 : embarked (port of embarkation) {C = Chernourg, Q = Queenstown, S = Southhampton}\\\n",
    "👉🏻 index 11 : boat (life boat -- if survived) \\\n",
    "👉🏻 index 12 : body (body number -- if not survived and body was recovored) \\\n",
    "👉🏻 index 13 : home.dest \n",
    "\n",
    "\n",
    "pclass 1 = Upper 2 = Middle 3 = Lower \\\n",
    "age = จะเป็น fractional ถ้าอายุน้อยกว่า 1 ขวบ(เลยเห็นเป็นทศนิยมบ้าง) ถ้าอายุเป็นประมาณจะอยู่ในรูป เลข.5 \\\n",
    "sibsp = ครอบครัวและญาติ sibling(brother/sister/stepbro/stepsis)spouse(husband/wifeแต่ไม่รวมmistressesและfiances) \\\n",
    "parch = parent(mother/father)child(son/daughter/stepson/stepdaug)เด็กบางคนเดินทางกับnannyก็เลยมีค่าparche=0 \\\n",
    "\n",
    "อะไรสำคัญบ้าง ชื่ออาจจะมี (ฐานะทางสังคม/ชาติตระกูล)ตระกูลผู้ดีก็น่าจะรวยพอจ่ายชั้น1 แต่ไม่น่ามีผลไรขนาดนั้น เลขตั๋วก็ไม่น่าสำคัญเท่าค่าตั๋วที่ผู้โดยสารนั้นจ่าย \n"
   ]
  },
  {
   "cell_type": "markdown",
   "id": "d3e3db0b-33b3-4db6-8cc9-8df47fa6c0f2",
   "metadata": {},
   "source": [
    "1️⃣ Check for missing values (NaN) in each column"
   ]
  },
  {
   "cell_type": "code",
   "execution_count": 174,
   "id": "1621cf63-80f0-4177-97fa-3e0469ba05b4",
   "metadata": {},
   "outputs": [
    {
     "data": {
      "text/plain": [
       "Text(0.5, 1.0, 'Missing Values Heatmap')"
      ]
     },
     "execution_count": 174,
     "metadata": {},
     "output_type": "execute_result"
    },
    {
     "data": {
      "image/png": "[encoded data removed]",
      "text/plain": [
       "<Figure size 640x480 with 1 Axes>"
      ]
     },
     "metadata": {},
     "output_type": "display_data"
    }
   ],
   "source": [
    "# Visualize the NaN with heatmap (seaborn)\n",
    "df.isnull().sum()\n",
    "sns.heatmap(df.isnull(), cbar = False).set_title(\"Missing Values Heatmap\")"
   ]
  },
  {
   "cell_type": "code",
   "execution_count": 175,
   "id": "8a12c94e-df85-4f32-9c48-116b07ad0716",
   "metadata": {},
   "outputs": [
    {
     "data": {
      "text/plain": [
       "pclass          0\n",
       "survived        0\n",
       "name            0\n",
       "sex             0\n",
       "age           263\n",
       "sibsp           0\n",
       "parch           0\n",
       "ticket          0\n",
       "fare            1\n",
       "cabin        1014\n",
       "embarked        2\n",
       "boat          823\n",
       "body         1188\n",
       "home.dest     564\n",
       "dtype: int64"
      ]
     },
     "execution_count": 175,
     "metadata": {},
     "output_type": "execute_result"
    }
   ],
   "source": [
    "# Check if NaN and count (by sum)\n",
    "(df.isnull() | df.empty | df.isna()).sum()"
   ]
  },
  {
   "cell_type": "markdown",
   "id": "f0c7bbb2-ce5a-4fdf-881b-d39332fd3a50",
   "metadata": {},
   "source": [
    "Analyze Missing Values\n",
    "\n",
    "embarked : NaN = 2 \\\n",
    "fare : NaN = 1 \\\n",
    "age : NaN = 263 \n",
    "\n",
    "cabin : NaN = 1014 \\\n",
    "boat      : NaN = 823 \\\n",
    "body      : NaN = 1188 \\\n",
    "home.dest : NaN = 564 "
   ]
  },
  {
   "cell_type": "markdown",
   "id": "1262ba91-48c7-479f-bf98-890deaed041e",
   "metadata": {},
   "source": [
    "1️⃣ Analyze data in each column"
   ]
  },
  {
   "cell_type": "markdown",
   "id": "ed228751-5178-45e8-a9c3-0a696aff3007",
   "metadata": {},
   "source": [
    "Embarked \\\n",
    "👉🏼 Embarkation (from where did the passenger get on the ship)"
   ]
  },
  {
   "cell_type": "code",
   "execution_count": 176,
   "id": "7f57227b-c62d-47a2-ba43-b6e6af1c2fce",
   "metadata": {},
   "outputs": [
    {
     "data": {
      "text/html": [
       "<div>\n",
       "<style scoped>\n",
       "    .dataframe tbody tr th:only-of-type {\n",
       "        vertical-align: middle;\n",
       "    }\n",
       "\n",
       "    .dataframe tbody tr th {\n",
       "        vertical-align: top;\n",
       "    }\n",
       "\n",
       "    .dataframe thead th {\n",
       "        text-align: right;\n",
       "    }\n",
       "</style>\n",
       "<table border=\"1\" class=\"dataframe\">\n",
       "  <thead>\n",
       "    <tr style=\"text-align: right;\">\n",
       "      <th></th>\n",
       "      <th>value</th>\n",
       "      <th>count</th>\n",
       "      <th>percentage</th>\n",
       "    </tr>\n",
       "  </thead>\n",
       "  <tbody>\n",
       "    <tr>\n",
       "      <th>0</th>\n",
       "      <td>S</td>\n",
       "      <td>914</td>\n",
       "      <td>69.931140</td>\n",
       "    </tr>\n",
       "    <tr>\n",
       "      <th>1</th>\n",
       "      <td>C</td>\n",
       "      <td>270</td>\n",
       "      <td>20.657995</td>\n",
       "    </tr>\n",
       "    <tr>\n",
       "      <th>2</th>\n",
       "      <td>Q</td>\n",
       "      <td>123</td>\n",
       "      <td>9.410865</td>\n",
       "    </tr>\n",
       "  </tbody>\n",
       "</table>\n",
       "</div>"
      ],
      "text/plain": [
       "  value  count  percentage\n",
       "0     S    914   69.931140\n",
       "1     C    270   20.657995\n",
       "2     Q    123    9.410865"
      ]
     },
     "execution_count": 176,
     "metadata": {},
     "output_type": "execute_result"
    }
   ],
   "source": [
    "# Check stat from the dataset\n",
    "\n",
    "# Group by the column and count occurrences\n",
    "count_emb = df['embarked'].value_counts().reset_index()\n",
    "\n",
    "# Rename the columns for better understanding\n",
    "count_emb.columns = ['value', 'count']\n",
    "\n",
    "# Calculate percentage\n",
    "count_emb['percentage'] = (count_emb['count'] / count_emb['count'].sum()) * 100\n",
    "\n",
    "# Display the result\n",
    "count_emb"
   ]
  },
  {
   "cell_type": "markdown",
   "id": "b1310ef4-4dec-429c-82a5-8881d71644a5",
   "metadata": {},
   "source": [
    "It seems most passengers embarked at Southhampton(S).🤔\\\n",
    "Therefore, if there are some missing values, replacing NaN w/ S would be a good idea. 👌🏼"
   ]
  },
  {
   "cell_type": "markdown",
   "id": "f8d26054-e1d0-47fe-9676-84ac701400fa",
   "metadata": {},
   "source": [
    "Fare\\\n",
    "👉🏼 How much did the passengers pay\\\n",
    "First Class (1st) paid more\\\n",
    "Third Class (3rd) paid less"
   ]
  },
  {
   "cell_type": "code",
   "execution_count": 177,
   "id": "84f6220e-a38c-4c53-8174-7d025ea70140",
   "metadata": {},
   "outputs": [
    {
     "name": "stdout",
     "output_type": "stream",
     "text": [
      "1225    3.0\n",
      "Name: pclass, dtype: float64\n"
     ]
    }
   ],
   "source": [
    "# There is only 1 missing value in the fare column\n",
    "# Find out which pclass it is\n",
    "\n",
    "# Find NaN values in the specified column ---> find index\n",
    "nan_fare_index = df[df['fare'].isna()].index\n",
    "\n",
    "# Get the values in another column corresponding to the NaN index\n",
    "nan_fare_pclass = df.loc[nan_fare_index, 'pclass']\n",
    "\n",
    "print(nan_fare_pclass)"
   ]
  },
  {
   "cell_type": "code",
   "execution_count": 178,
   "id": "87dc9401-ae93-4f94-b1ff-2c883291e26e",
   "metadata": {},
   "outputs": [
    {
     "name": "stdout",
     "output_type": "stream",
     "text": [
      "Median Fare for each Pclass:\n",
      "pclass\n",
      "1.0    60.0000\n",
      "2.0    15.0458\n",
      "3.0     8.0500\n",
      "Name: fare, dtype: float64\n"
     ]
    }
   ],
   "source": [
    "# The missing value is in the 3rd pclass\n",
    "\n",
    "# Find median of fare in each class\n",
    "# Group by 'Pclass' and calculate the median fare for each group\n",
    "median_fare_pclass = df.groupby('pclass')['fare'].median()\n",
    "\n",
    "print(\"Median Fare for each Pclass:\")\n",
    "print(median_fare_pclass)"
   ]
  },
  {
   "cell_type": "code",
   "execution_count": 179,
   "id": "26732d0d-b096-4b49-9c2a-ac60478efa59",
   "metadata": {},
   "outputs": [
    {
     "name": "stdout",
     "output_type": "stream",
     "text": [
      "Median Fare for 3rd Class:\n",
      "8.05\n"
     ]
    }
   ],
   "source": [
    "median_fare_3rd_class = df[df['pclass'] == 3]['fare'].median()\n",
    "\n",
    "print(\"Median Fare for 3rd Class:\")\n",
    "print(median_fare_3rd_class)"
   ]
  },
  {
   "cell_type": "markdown",
   "id": "0d77cc98-2ec9-42d7-bfb2-8d04580971c6",
   "metadata": {},
   "source": [
    "age"
   ]
  },
  {
   "cell_type": "code",
   "execution_count": 180,
   "id": "1d1e61ba-be2a-4c78-9448-909a7a6c638c",
   "metadata": {},
   "outputs": [
    {
     "name": "stdout",
     "output_type": "stream",
     "text": [
      "Median age of all passengers:\n",
      "28.0\n"
     ]
    }
   ],
   "source": [
    "# Find median age of all passengers\n",
    "median_age_all = df['age'].median()\n",
    "\n",
    "print(\"Median age of all passengers:\")\n",
    "print(median_age_all)"
   ]
  },
  {
   "cell_type": "code",
   "execution_count": 181,
   "id": "4db03a6f-14ae-4984-b862-b2116e56f8b9",
   "metadata": {},
   "outputs": [
    {
     "name": "stdout",
     "output_type": "stream",
     "text": [
      "Median age for each Pclass:\n",
      "pclass\n",
      "1.0    39.0\n",
      "2.0    29.0\n",
      "3.0    24.0\n",
      "Name: age, dtype: float64\n"
     ]
    }
   ],
   "source": [
    "# Find median age of each pclass\n",
    "\n",
    "# Group by 'Pclass' and calculate the median age for each group\n",
    "median_age_pclass = df.groupby('pclass')['age'].median()\n",
    "\n",
    "print(\"Median age for each Pclass:\")\n",
    "print(median_age_pclass)"
   ]
  },
  {
   "cell_type": "code",
   "execution_count": 182,
   "id": "a58a9fde-99c2-410d-8cce-380ebbcb2d8f",
   "metadata": {},
   "outputs": [],
   "source": [
    "# Other descriptive stats\n",
    "\n",
    "# Age and sex in each pclass\n",
    "# distribution? ---> viz"
   ]
  },
  {
   "cell_type": "code",
   "execution_count": null,
   "id": "35daf5d2-6b85-414d-b238-e23fff4ac838",
   "metadata": {},
   "outputs": [],
   "source": []
  },
  {
   "cell_type": "code",
   "execution_count": null,
   "id": "9026dbe7-7d7b-434e-8197-aff7a0d806a5",
   "metadata": {},
   "outputs": [],
   "source": []
  },
  {
   "cell_type": "code",
   "execution_count": null,
   "id": "0ddb5aac-2a72-4b3f-b720-6432445fa452",
   "metadata": {},
   "outputs": [],
   "source": []
  },
  {
   "cell_type": "markdown",
   "id": "e1d86f24-9de9-4807-b73d-ab308650bb00",
   "metadata": {},
   "source": [
    "pclass {1st, 2nd, 3rd} \\\n",
    "This feature renders the passenger division. The tourists could opt from three distinct sections, namely class-1, class-2, class-3. The third class had the highest number of commuters, followed by class-2 and class-1. The number of tourists in the third class was more than the number of passengers in the first and second class combined. The survival chances of a class-1 traveler were higher than a class-2 and class-3 traveler."
   ]
  },
  {
   "cell_type": "code",
   "execution_count": 183,
   "id": "f06b94bd-7b97-4e92-befa-fefe03837d62",
   "metadata": {},
   "outputs": [
    {
     "data": {
      "text/html": [
       "<div>\n",
       "<style scoped>\n",
       "    .dataframe tbody tr th:only-of-type {\n",
       "        vertical-align: middle;\n",
       "    }\n",
       "\n",
       "    .dataframe tbody tr th {\n",
       "        vertical-align: top;\n",
       "    }\n",
       "\n",
       "    .dataframe thead th {\n",
       "        text-align: right;\n",
       "    }\n",
       "</style>\n",
       "<table border=\"1\" class=\"dataframe\">\n",
       "  <thead>\n",
       "    <tr style=\"text-align: right;\">\n",
       "      <th></th>\n",
       "      <th>Pclass</th>\n",
       "      <th>Number</th>\n",
       "      <th>Percentage</th>\n",
       "    </tr>\n",
       "  </thead>\n",
       "  <tbody>\n",
       "    <tr>\n",
       "      <th>0</th>\n",
       "      <td>3.0</td>\n",
       "      <td>709</td>\n",
       "      <td>54.163484</td>\n",
       "    </tr>\n",
       "    <tr>\n",
       "      <th>1</th>\n",
       "      <td>1.0</td>\n",
       "      <td>323</td>\n",
       "      <td>24.675325</td>\n",
       "    </tr>\n",
       "    <tr>\n",
       "      <th>2</th>\n",
       "      <td>2.0</td>\n",
       "      <td>277</td>\n",
       "      <td>21.161192</td>\n",
       "    </tr>\n",
       "  </tbody>\n",
       "</table>\n",
       "</div>"
      ],
      "text/plain": [
       "   Pclass  Number  Percentage\n",
       "0     3.0     709   54.163484\n",
       "1     1.0     323   24.675325\n",
       "2     2.0     277   21.161192"
      ]
     },
     "execution_count": 183,
     "metadata": {},
     "output_type": "execute_result"
    }
   ],
   "source": [
    "# Count number of passengers in each class\n",
    "\n",
    "# Group by the column and count occurrences\n",
    "count_pclass = df['pclass'].value_counts().reset_index()\n",
    "\n",
    "# Rename the columns for better understanding\n",
    "count_pclass.columns = ['Pclass', 'Number']\n",
    "\n",
    "# Calculate percentage\n",
    "count_pclass['Percentage'] = (count_pclass['Number'] / count_pclass['Number'].sum()) * 100\n",
    "\n",
    "# Display the result\n",
    "count_pclass"
   ]
  },
  {
   "cell_type": "code",
   "execution_count": 184,
   "id": "de026fd6-7eae-43a9-b94b-d4213530cd32",
   "metadata": {},
   "outputs": [],
   "source": [
    "# Stats for pclass"
   ]
  },
  {
   "cell_type": "code",
   "execution_count": null,
   "id": "206d4411-ba48-4ff5-bee9-0b62d3bc79f0",
   "metadata": {},
   "outputs": [],
   "source": []
  },
  {
   "cell_type": "markdown",
   "id": "41223185-6e70-40f4-bba4-a866a073b479",
   "metadata": {},
   "source": [
    "2️⃣ Deal with NaN\n",
    "\n",
    "embarked --> if NaN, assume that embarked at Southhampton(S) ✅\\\n",
    "fare     --> fillna with median (of its pclass) ✅\\\n",
    "age      --> fillna with median (of all passengers or of its pclass 🤔) ✅ \n",
    "\n",
    "\n",
    "cabin     --> Maybe UNNECESSARY 👋 \\\n",
    "boat      --> Maybe UNNECESSARY 👋 \\\n",
    "body      --> Maybe UNNECESSARY 👋 \\\n",
    "home.dest --> Maybe UNNECESSARY 👋"
   ]
  },
  {
   "cell_type": "code",
   "execution_count": 185,
   "id": "e6da45a3-e801-429d-bc70-11ea397ff097",
   "metadata": {},
   "outputs": [],
   "source": [
    "# copy dataset instead of directly adjust (preventive)\n",
    "df_clean = df.copy()"
   ]
  },
  {
   "cell_type": "code",
   "execution_count": 211,
   "id": "a0ca942e-0dad-4b2e-bcfa-12375b8e46bf",
   "metadata": {},
   "outputs": [
    {
     "name": "stdout",
     "output_type": "stream",
     "text": [
      "There are 0 missing values in embarked column.\n"
     ]
    }
   ],
   "source": [
    "# Deal with NaN in the embarked column\n",
    "\n",
    "# fillna with S\n",
    "df_clean['embarked'] = df.embarked.fillna('S')\n",
    "\n",
    "# Check for NaN\n",
    "EmbarkedNaN = df_clean['embarked'].isna().sum()\n",
    "print(f'There are {EmbarkedNaN} missing values in embarked column.')"
   ]
  },
  {
   "cell_type": "code",
   "execution_count": 212,
   "id": "a1feebc5-72ee-42c7-a9d8-717bb0850443",
   "metadata": {},
   "outputs": [
    {
     "name": "stdout",
     "output_type": "stream",
     "text": [
      "There are 0 missing values in fare column.\n"
     ]
    }
   ],
   "source": [
    "# Deal with NaN in the fare column\n",
    "\n",
    "# fillna with median of its pclass (3rd)\n",
    "median_fare_3rd_class = df[df['pclass'] == 3]['fare'].median()\n",
    "df_clean['fare'] = df.fare.fillna(median_fare_3rd_class) \n",
    "\n",
    "# Check for NaN\n",
    "FareNaN = df_clean['embarked'].isna().sum()\n",
    "print(f'There are {FareNaN} missing values in fare column.')"
   ]
  },
  {
   "cell_type": "code",
   "execution_count": 213,
   "id": "93fd0a2f-6cc8-486c-b8c5-381d385d228c",
   "metadata": {},
   "outputs": [
    {
     "name": "stdout",
     "output_type": "stream",
     "text": [
      "There are 0 missing values in fare column.\n"
     ]
    }
   ],
   "source": [
    "# Deal with NaN in the age column\n",
    "\n",
    "# fillna with median age (of all passengers)\n",
    "df_clean['age'] = df.age.fillna(df.age.median())  \n",
    "\n",
    "# Check for NaN\n",
    "AgeNaN = df_clean['age'].isna().sum()\n",
    "print(f'There are {AgeNaN} missing values in fare column.')"
   ]
  },
  {
   "cell_type": "code",
   "execution_count": 189,
   "id": "88395fa2-3081-44bb-97a9-5539ccf79ef6",
   "metadata": {},
   "outputs": [
    {
     "data": {
      "text/html": [
       "<div>\n",
       "<style scoped>\n",
       "    .dataframe tbody tr th:only-of-type {\n",
       "        vertical-align: middle;\n",
       "    }\n",
       "\n",
       "    .dataframe tbody tr th {\n",
       "        vertical-align: top;\n",
       "    }\n",
       "\n",
       "    .dataframe thead th {\n",
       "        text-align: right;\n",
       "    }\n",
       "</style>\n",
       "<table border=\"1\" class=\"dataframe\">\n",
       "  <thead>\n",
       "    <tr style=\"text-align: right;\">\n",
       "      <th></th>\n",
       "      <th>pclass</th>\n",
       "      <th>survived</th>\n",
       "      <th>name</th>\n",
       "      <th>sex</th>\n",
       "      <th>age</th>\n",
       "      <th>sibsp</th>\n",
       "      <th>parch</th>\n",
       "      <th>ticket</th>\n",
       "      <th>fare</th>\n",
       "      <th>cabin</th>\n",
       "      <th>embarked</th>\n",
       "      <th>boat</th>\n",
       "      <th>body</th>\n",
       "      <th>home.dest</th>\n",
       "    </tr>\n",
       "  </thead>\n",
       "  <tbody>\n",
       "    <tr>\n",
       "      <th>0</th>\n",
       "      <td>1.0</td>\n",
       "      <td>1.0</td>\n",
       "      <td>Allen, Miss. Elisabeth Walton</td>\n",
       "      <td>female</td>\n",
       "      <td>29.0000</td>\n",
       "      <td>0.0</td>\n",
       "      <td>0.0</td>\n",
       "      <td>24160</td>\n",
       "      <td>211.3375</td>\n",
       "      <td>B5</td>\n",
       "      <td>S</td>\n",
       "      <td>2</td>\n",
       "      <td>NaN</td>\n",
       "      <td>St Louis, MO</td>\n",
       "    </tr>\n",
       "    <tr>\n",
       "      <th>1</th>\n",
       "      <td>1.0</td>\n",
       "      <td>1.0</td>\n",
       "      <td>Allison, Master. Hudson Trevor</td>\n",
       "      <td>male</td>\n",
       "      <td>0.9167</td>\n",
       "      <td>1.0</td>\n",
       "      <td>2.0</td>\n",
       "      <td>113781</td>\n",
       "      <td>151.5500</td>\n",
       "      <td>C22 C26</td>\n",
       "      <td>S</td>\n",
       "      <td>11</td>\n",
       "      <td>NaN</td>\n",
       "      <td>Montreal, PQ / Chesterville, ON</td>\n",
       "    </tr>\n",
       "    <tr>\n",
       "      <th>2</th>\n",
       "      <td>1.0</td>\n",
       "      <td>0.0</td>\n",
       "      <td>Allison, Miss. Helen Loraine</td>\n",
       "      <td>female</td>\n",
       "      <td>2.0000</td>\n",
       "      <td>1.0</td>\n",
       "      <td>2.0</td>\n",
       "      <td>113781</td>\n",
       "      <td>151.5500</td>\n",
       "      <td>C22 C26</td>\n",
       "      <td>S</td>\n",
       "      <td>NaN</td>\n",
       "      <td>NaN</td>\n",
       "      <td>Montreal, PQ / Chesterville, ON</td>\n",
       "    </tr>\n",
       "    <tr>\n",
       "      <th>3</th>\n",
       "      <td>1.0</td>\n",
       "      <td>0.0</td>\n",
       "      <td>Allison, Mr. Hudson Joshua Creighton</td>\n",
       "      <td>male</td>\n",
       "      <td>30.0000</td>\n",
       "      <td>1.0</td>\n",
       "      <td>2.0</td>\n",
       "      <td>113781</td>\n",
       "      <td>151.5500</td>\n",
       "      <td>C22 C26</td>\n",
       "      <td>S</td>\n",
       "      <td>NaN</td>\n",
       "      <td>135.0</td>\n",
       "      <td>Montreal, PQ / Chesterville, ON</td>\n",
       "    </tr>\n",
       "    <tr>\n",
       "      <th>4</th>\n",
       "      <td>1.0</td>\n",
       "      <td>0.0</td>\n",
       "      <td>Allison, Mrs. Hudson J C (Bessie Waldo Daniels)</td>\n",
       "      <td>female</td>\n",
       "      <td>25.0000</td>\n",
       "      <td>1.0</td>\n",
       "      <td>2.0</td>\n",
       "      <td>113781</td>\n",
       "      <td>151.5500</td>\n",
       "      <td>C22 C26</td>\n",
       "      <td>S</td>\n",
       "      <td>NaN</td>\n",
       "      <td>NaN</td>\n",
       "      <td>Montreal, PQ / Chesterville, ON</td>\n",
       "    </tr>\n",
       "  </tbody>\n",
       "</table>\n",
       "</div>"
      ],
      "text/plain": [
       "   pclass  survived                                             name     sex  \\\n",
       "0     1.0       1.0                    Allen, Miss. Elisabeth Walton  female   \n",
       "1     1.0       1.0                   Allison, Master. Hudson Trevor    male   \n",
       "2     1.0       0.0                     Allison, Miss. Helen Loraine  female   \n",
       "3     1.0       0.0             Allison, Mr. Hudson Joshua Creighton    male   \n",
       "4     1.0       0.0  Allison, Mrs. Hudson J C (Bessie Waldo Daniels)  female   \n",
       "\n",
       "       age  sibsp  parch  ticket      fare    cabin embarked boat   body  \\\n",
       "0  29.0000    0.0    0.0   24160  211.3375       B5        S    2    NaN   \n",
       "1   0.9167    1.0    2.0  113781  151.5500  C22 C26        S   11    NaN   \n",
       "2   2.0000    1.0    2.0  113781  151.5500  C22 C26        S  NaN    NaN   \n",
       "3  30.0000    1.0    2.0  113781  151.5500  C22 C26        S  NaN  135.0   \n",
       "4  25.0000    1.0    2.0  113781  151.5500  C22 C26        S  NaN    NaN   \n",
       "\n",
       "                         home.dest  \n",
       "0                     St Louis, MO  \n",
       "1  Montreal, PQ / Chesterville, ON  \n",
       "2  Montreal, PQ / Chesterville, ON  \n",
       "3  Montreal, PQ / Chesterville, ON  \n",
       "4  Montreal, PQ / Chesterville, ON  "
      ]
     },
     "execution_count": 189,
     "metadata": {},
     "output_type": "execute_result"
    }
   ],
   "source": [
    "df_clean.head()"
   ]
  },
  {
   "cell_type": "code",
   "execution_count": 190,
   "id": "d75db5c0-f563-41b6-9b7e-eedae257b92f",
   "metadata": {},
   "outputs": [
    {
     "data": {
      "text/plain": [
       "pclass          3\n",
       "survived        2\n",
       "name         1307\n",
       "sex             2\n",
       "age            98\n",
       "sibsp           7\n",
       "parch           8\n",
       "ticket        929\n",
       "fare          281\n",
       "cabin         186\n",
       "embarked        3\n",
       "boat           27\n",
       "body          121\n",
       "home.dest     369\n",
       "dtype: int64"
      ]
     },
     "execution_count": 190,
     "metadata": {},
     "output_type": "execute_result"
    }
   ],
   "source": [
    "df_clean.nunique()"
   ]
  },
  {
   "cell_type": "code",
   "execution_count": null,
   "id": "c84b078e-b635-4bfc-b25f-fb0dd732b759",
   "metadata": {},
   "outputs": [],
   "source": []
  },
  {
   "cell_type": "code",
   "execution_count": null,
   "id": "4c126664-5403-4be9-8b36-e374db2db2d3",
   "metadata": {},
   "outputs": [],
   "source": []
  },
  {
   "cell_type": "code",
   "execution_count": null,
   "id": "b5f82a48-2639-4cd4-b6f0-9eb69c04515d",
   "metadata": {},
   "outputs": [],
   "source": []
  },
  {
   "cell_type": "markdown",
   "id": "0511f24c-5f9f-4f00-8699-fc861972da2d",
   "metadata": {},
   "source": [
    "Analyze each feature"
   ]
  },
  {
   "cell_type": "markdown",
   "id": "37dc9c78-2c98-44d7-a4c6-03ca605a5717",
   "metadata": {},
   "source": [
    "MOST IMPORTANT !\n",
    "\n",
    "📈 Survived 📉 "
   ]
  },
  {
   "cell_type": "code",
   "execution_count": 191,
   "id": "ccb27ffb-88e1-484d-8ee1-1d1cbde4a77e",
   "metadata": {},
   "outputs": [
    {
     "name": "stderr",
     "output_type": "stream",
     "text": [
      "C:\\Users\\Dell\\AppData\\Local\\Temp\\ipykernel_4296\\268617178.py:4: FutureWarning: The default value of numeric_only in DataFrame.corr is deprecated. In a future version, it will default to False. Select only valid columns or specify the value of numeric_only to silence this warning.\n",
      "  sns.heatmap(df.corr(), cmap=\"YlGnBu\")  # Yellow-Green-Blue\n"
     ]
    },
    {
     "data": {
      "image/png": "[encoded data removed]",
      "text/plain": [
       "<Figure size 640x480 with 2 Axes>"
      ]
     },
     "metadata": {},
     "output_type": "display_data"
    }
   ],
   "source": [
    "# plot simple correlation heatmap (of the original dataset)\n",
    "import seaborn as sns\n",
    "\n",
    "sns.heatmap(df.corr(), cmap=\"YlGnBu\")  # Yellow-Green-Blue\n",
    "plt.show()"
   ]
  },
  {
   "cell_type": "markdown",
   "id": "37e3ca00-0f23-428e-9ed8-d1833baba1ce",
   "metadata": {},
   "source": [
    "From heatmap of correlation\n",
    "\n",
    "Survived-Pclass\\\n",
    "Negative Correlation = inverse variation\\\n",
    "It makes sense because people in the less number of pclass (1) paid more than people in the third(3) class.\\\n",
    "From the heatmap it could be assumed that people in the lower number of pclass (1) tend to survive\\\n",
    "while people in the higher number of pclass (3) tend to die.\n",
    "\n",
    "Survived-Age\\\n",
    "It seems they don't correlate each other much. (0 or near zero)\n",
    "\n",
    "Survived-Fare\\\n",
    "Positive Correlation = direct variation\\\n",
    "Pay more, survive more. Pay less, survive less. That's all.\n",
    "\n",
    "⚠️ But this heatmap lacks of Sex feature which could be important.🚻\n"
   ]
  },
  {
   "cell_type": "code",
   "execution_count": 192,
   "id": "d0b8896b-0143-4a39-8b5e-db62e1e17b58",
   "metadata": {},
   "outputs": [
    {
     "data": {
      "text/plain": [
       "0       0.0\n",
       "1       1.0\n",
       "2       0.0\n",
       "3       1.0\n",
       "4       0.0\n",
       "       ... \n",
       "1304    0.0\n",
       "1305    0.0\n",
       "1306    1.0\n",
       "1307    1.0\n",
       "1308    1.0\n",
       "Name: sex, Length: 1309, dtype: float64"
      ]
     },
     "execution_count": 192,
     "metadata": {},
     "output_type": "execute_result"
    }
   ],
   "source": [
    "# Adapt the Sex column of clean dataset ---> make it numeral\n",
    "df_clean_x = df_clean.copy()\n",
    "df_clean_x['sex'] = df_clean['sex'].replace({'male': 1.0, 'female': 0.0})\n",
    "\n",
    "df_clean_x['sex']"
   ]
  },
  {
   "cell_type": "code",
   "execution_count": 193,
   "id": "7e757652-355c-4a12-8982-9f5e6aca07cb",
   "metadata": {},
   "outputs": [
    {
     "name": "stderr",
     "output_type": "stream",
     "text": [
      "C:\\Users\\Dell\\AppData\\Local\\Temp\\ipykernel_4296\\2231692806.py:5: FutureWarning: The default value of numeric_only in DataFrame.corr is deprecated. In a future version, it will default to False. Select only valid columns or specify the value of numeric_only to silence this warning.\n",
      "  sns.heatmap(df_clean_x.corr(), cmap=\"YlGnBu\")  # Yellow-Green-Blue\n"
     ]
    },
    {
     "data": {
      "image/png": "[encoded data removed]",
      "text/plain": [
       "<Figure size 640x480 with 2 Axes>"
      ]
     },
     "metadata": {},
     "output_type": "display_data"
    }
   ],
   "source": [
    "# Replot the heatmap\n",
    "# plot simple correlation heatmap (of the adapted_x dataset)\n",
    "import seaborn as sns\n",
    "\n",
    "sns.heatmap(df_clean_x.corr(), cmap=\"YlGnBu\")  # Yellow-Green-Blue\n",
    "plt.show()"
   ]
  },
  {
   "cell_type": "markdown",
   "id": "88945465-c39f-4959-87ee-1c1d5f3c4fd3",
   "metadata": {},
   "source": [
    "From heatmap of correlation (adapted dataset)\n",
    "\n",
    "Survived-Pclass\\\n",
    "Negative Correlation = inverse variation\\\n",
    "It makes sense because people in the less number of pclass (1) paid more than people in the third(3) class.\\\n",
    "From the heatmap it could be assumed that people in the lower number of pclass (1) tend to survive\\\n",
    "while people in the higher number of pclass (3) tend to die.\n",
    "\n",
    "Survived-Age\\\n",
    "It seems they don't correlate each other much. (0 or near zero)\n",
    "\n",
    "Survived-Fare\\\n",
    "Positive Correlation = direct variation\\\n",
    "Pay more, survive more. Pay less, survive less. That's all.\n",
    "\n",
    "Survived-Sex\\\n",
    "Strongly Negative Correlation = inverse variation\\\n",
    "Since \\\n",
    "survived = 0.0 (died), survived = 1.0 (lived)\\\n",
    "sex = 0.0 (famale), sex = 1.0 (male)\\\n",
    "which means the lower number of sex, the more chance to survive.(female passengers tends to be survived)"
   ]
  },
  {
   "cell_type": "markdown",
   "id": "05738190-453e-4f4d-9361-48292cf73d1c",
   "metadata": {},
   "source": [
    "Survived-Pclass \n",
    "\n",
    "Hypothesis:\\\n",
    "Rich people might have more chance to survive.\\\n",
    "Poor people might die more."
   ]
  },
  {
   "cell_type": "code",
   "execution_count": 194,
   "id": "609f99a7-2cff-408f-9b92-a94c5c5faf11",
   "metadata": {},
   "outputs": [
    {
     "data": {
      "text/html": [
       "<div>\n",
       "<style scoped>\n",
       "    .dataframe tbody tr th:only-of-type {\n",
       "        vertical-align: middle;\n",
       "    }\n",
       "\n",
       "    .dataframe tbody tr th {\n",
       "        vertical-align: top;\n",
       "    }\n",
       "\n",
       "    .dataframe thead th {\n",
       "        text-align: right;\n",
       "    }\n",
       "</style>\n",
       "<table border=\"1\" class=\"dataframe\">\n",
       "  <thead>\n",
       "    <tr style=\"text-align: right;\">\n",
       "      <th></th>\n",
       "      <th>survived</th>\n",
       "      <th>count</th>\n",
       "    </tr>\n",
       "  </thead>\n",
       "  <tbody>\n",
       "    <tr>\n",
       "      <th>0</th>\n",
       "      <td>Died</td>\n",
       "      <td>809</td>\n",
       "    </tr>\n",
       "    <tr>\n",
       "      <th>1</th>\n",
       "      <td>Survived</td>\n",
       "      <td>500</td>\n",
       "    </tr>\n",
       "  </tbody>\n",
       "</table>\n",
       "</div>"
      ],
      "text/plain": [
       "   survived  count\n",
       "0      Died    809\n",
       "1  Survived    500"
      ]
     },
     "execution_count": 194,
     "metadata": {},
     "output_type": "execute_result"
    }
   ],
   "source": [
    "import matplotlib.pyplot as plt\n",
    "\n",
    "df_pie = df_clean.copy()\n",
    "df_pie['survived'] = df_pie['survived'].replace({0.0: 'Died', 1.0: 'Survived'})\n",
    "\n",
    "# Group by the 'status' column and count occurrences\n",
    "grouped_df_pie = df_pie.groupby('survived').size().reset_index(name='count')\n",
    "\n",
    "# Display the result\n",
    "grouped_df_pie"
   ]
  },
  {
   "cell_type": "code",
   "execution_count": 195,
   "id": "fe9d018e-fa46-46a6-b9d7-bb5b5dfb0826",
   "metadata": {},
   "outputs": [
    {
     "data": {
      "image/png": "[encoded data removed]",
      "text/plain": [
       "<Figure size 800x800 with 1 Axes>"
      ]
     },
     "metadata": {},
     "output_type": "display_data"
    }
   ],
   "source": [
    "# Survived Viz\n",
    "\n",
    "# Count the occurrences of each label\n",
    "# calculates the counts of each unique value in the 'survived' column. It gives you the number of occurrences for 'Survived' and 'Died'.\n",
    "label_counts = df_pie['survived'].value_counts()\n",
    "\n",
    "# Plotting the pie chart\n",
    "plt.figure(figsize=(8, 8))\n",
    "# the code creates a pie chart using plt.pie(). It takes the counts (label_counts) and corresponding labels (label_counts.index). \n",
    "#The autopct parameter formats the label with a percentage, and startangle sets the starting angle of the pie chart.\n",
    "plt.pie(label_counts, labels=label_counts.index, autopct='%1.1f%%', startangle=140)\n",
    "\n",
    "#sets the style of the plot. In this case, it's using the \"fivethirtyeight\" style, which is a popular style known for its clean and modern appearance.\n",
    "plt.style.use(\"fivethirtyeight\")\n",
    "# title name for the head of table\n",
    "plt.title(\"Survival Percentage\")\n",
    "# make default padding looks nice  adjusts the spacing between subplots to make the layout more visually appealing.\n",
    "plt.tight_layout()\n",
    "plt.show()"
   ]
  },
  {
   "cell_type": "code",
   "execution_count": 196,
   "id": "b8b60bcf-3416-416a-9886-bf6b7775b696",
   "metadata": {},
   "outputs": [
    {
     "name": "stderr",
     "output_type": "stream",
     "text": [
      "C:\\Users\\Dell\\AppData\\Local\\Temp\\ipykernel_4296\\807650160.py:3: FutureWarning: \n",
      "\n",
      "The `ci` parameter is deprecated. Use `errorbar=None` for the same effect.\n",
      "\n",
      "  sns.barplot(x='pclass', y='survived', hue='sex', data=df, ax=axis, ci=None)\n"
     ]
    },
    {
     "data": {
      "text/plain": [
       "Text(0.5, 0, '')"
      ]
     },
     "execution_count": 196,
     "metadata": {},
     "output_type": "execute_result"
    },
    {
     "data": {
      "image/png": "[encoded data removed]",
      "text/plain": [
       "<Figure size 800x800 with 1 Axes>"
      ]
     },
     "metadata": {},
     "output_type": "display_data"
    }
   ],
   "source": [
    "sns.set_style('whitegrid')\n",
    "fig, axis = plt.subplots(figsize=(8,8))\n",
    "sns.barplot(x='pclass', y='survived', hue='sex', data=df, ax=axis, ci=None)\n",
    "axis.set_title('Survival Rate by Passenger Class and Gender')\n",
    "loc, labels = plt.xticks()\n",
    "plt.xticks(loc, ['First Class','Second Class', 'Third Class'])\n",
    "axis.set_ylabel('Percent Survived')\n",
    "axis.set_xlabel('')"
   ]
  },
  {
   "cell_type": "code",
   "execution_count": 197,
   "id": "cbdfa297-32d7-4f27-8a04-87814a0939a6",
   "metadata": {},
   "outputs": [
    {
     "data": {
      "text/html": [
       "<div>\n",
       "<style scoped>\n",
       "    .dataframe tbody tr th:only-of-type {\n",
       "        vertical-align: middle;\n",
       "    }\n",
       "\n",
       "    .dataframe tbody tr th {\n",
       "        vertical-align: top;\n",
       "    }\n",
       "\n",
       "    .dataframe thead th {\n",
       "        text-align: right;\n",
       "    }\n",
       "</style>\n",
       "<table border=\"1\" class=\"dataframe\">\n",
       "  <thead>\n",
       "    <tr style=\"text-align: right;\">\n",
       "      <th></th>\n",
       "      <th>pclass</th>\n",
       "      <th>survived</th>\n",
       "      <th>name</th>\n",
       "      <th>sex</th>\n",
       "      <th>age</th>\n",
       "      <th>sibsp</th>\n",
       "      <th>parch</th>\n",
       "      <th>ticket</th>\n",
       "      <th>fare</th>\n",
       "      <th>cabin</th>\n",
       "      <th>embarked</th>\n",
       "      <th>boat</th>\n",
       "      <th>body</th>\n",
       "      <th>home.dest</th>\n",
       "    </tr>\n",
       "  </thead>\n",
       "  <tbody>\n",
       "    <tr>\n",
       "      <th>0</th>\n",
       "      <td>1.0</td>\n",
       "      <td>1.0</td>\n",
       "      <td>Allen, Miss. Elisabeth Walton</td>\n",
       "      <td>female</td>\n",
       "      <td>29.0000</td>\n",
       "      <td>0.0</td>\n",
       "      <td>0.0</td>\n",
       "      <td>24160</td>\n",
       "      <td>211.3375</td>\n",
       "      <td>B5</td>\n",
       "      <td>S</td>\n",
       "      <td>2</td>\n",
       "      <td>NaN</td>\n",
       "      <td>St Louis, MO</td>\n",
       "    </tr>\n",
       "    <tr>\n",
       "      <th>1</th>\n",
       "      <td>1.0</td>\n",
       "      <td>1.0</td>\n",
       "      <td>Allison, Master. Hudson Trevor</td>\n",
       "      <td>male</td>\n",
       "      <td>0.9167</td>\n",
       "      <td>1.0</td>\n",
       "      <td>2.0</td>\n",
       "      <td>113781</td>\n",
       "      <td>151.5500</td>\n",
       "      <td>C22 C26</td>\n",
       "      <td>S</td>\n",
       "      <td>11</td>\n",
       "      <td>NaN</td>\n",
       "      <td>Montreal, PQ / Chesterville, ON</td>\n",
       "    </tr>\n",
       "    <tr>\n",
       "      <th>2</th>\n",
       "      <td>1.0</td>\n",
       "      <td>0.0</td>\n",
       "      <td>Allison, Miss. Helen Loraine</td>\n",
       "      <td>female</td>\n",
       "      <td>2.0000</td>\n",
       "      <td>1.0</td>\n",
       "      <td>2.0</td>\n",
       "      <td>113781</td>\n",
       "      <td>151.5500</td>\n",
       "      <td>C22 C26</td>\n",
       "      <td>S</td>\n",
       "      <td>NaN</td>\n",
       "      <td>NaN</td>\n",
       "      <td>Montreal, PQ / Chesterville, ON</td>\n",
       "    </tr>\n",
       "    <tr>\n",
       "      <th>3</th>\n",
       "      <td>1.0</td>\n",
       "      <td>0.0</td>\n",
       "      <td>Allison, Mr. Hudson Joshua Creighton</td>\n",
       "      <td>male</td>\n",
       "      <td>30.0000</td>\n",
       "      <td>1.0</td>\n",
       "      <td>2.0</td>\n",
       "      <td>113781</td>\n",
       "      <td>151.5500</td>\n",
       "      <td>C22 C26</td>\n",
       "      <td>S</td>\n",
       "      <td>NaN</td>\n",
       "      <td>135.0</td>\n",
       "      <td>Montreal, PQ / Chesterville, ON</td>\n",
       "    </tr>\n",
       "    <tr>\n",
       "      <th>4</th>\n",
       "      <td>1.0</td>\n",
       "      <td>0.0</td>\n",
       "      <td>Allison, Mrs. Hudson J C (Bessie Waldo Daniels)</td>\n",
       "      <td>female</td>\n",
       "      <td>25.0000</td>\n",
       "      <td>1.0</td>\n",
       "      <td>2.0</td>\n",
       "      <td>113781</td>\n",
       "      <td>151.5500</td>\n",
       "      <td>C22 C26</td>\n",
       "      <td>S</td>\n",
       "      <td>NaN</td>\n",
       "      <td>NaN</td>\n",
       "      <td>Montreal, PQ / Chesterville, ON</td>\n",
       "    </tr>\n",
       "    <tr>\n",
       "      <th>...</th>\n",
       "      <td>...</td>\n",
       "      <td>...</td>\n",
       "      <td>...</td>\n",
       "      <td>...</td>\n",
       "      <td>...</td>\n",
       "      <td>...</td>\n",
       "      <td>...</td>\n",
       "      <td>...</td>\n",
       "      <td>...</td>\n",
       "      <td>...</td>\n",
       "      <td>...</td>\n",
       "      <td>...</td>\n",
       "      <td>...</td>\n",
       "      <td>...</td>\n",
       "    </tr>\n",
       "    <tr>\n",
       "      <th>1304</th>\n",
       "      <td>3.0</td>\n",
       "      <td>0.0</td>\n",
       "      <td>Zabour, Miss. Hileni</td>\n",
       "      <td>female</td>\n",
       "      <td>14.5000</td>\n",
       "      <td>1.0</td>\n",
       "      <td>0.0</td>\n",
       "      <td>2665</td>\n",
       "      <td>14.4542</td>\n",
       "      <td>NaN</td>\n",
       "      <td>C</td>\n",
       "      <td>NaN</td>\n",
       "      <td>328.0</td>\n",
       "      <td>NaN</td>\n",
       "    </tr>\n",
       "    <tr>\n",
       "      <th>1305</th>\n",
       "      <td>3.0</td>\n",
       "      <td>0.0</td>\n",
       "      <td>Zabour, Miss. Thamine</td>\n",
       "      <td>female</td>\n",
       "      <td>28.0000</td>\n",
       "      <td>1.0</td>\n",
       "      <td>0.0</td>\n",
       "      <td>2665</td>\n",
       "      <td>14.4542</td>\n",
       "      <td>NaN</td>\n",
       "      <td>C</td>\n",
       "      <td>NaN</td>\n",
       "      <td>NaN</td>\n",
       "      <td>NaN</td>\n",
       "    </tr>\n",
       "    <tr>\n",
       "      <th>1306</th>\n",
       "      <td>3.0</td>\n",
       "      <td>0.0</td>\n",
       "      <td>Zakarian, Mr. Mapriededer</td>\n",
       "      <td>male</td>\n",
       "      <td>26.5000</td>\n",
       "      <td>0.0</td>\n",
       "      <td>0.0</td>\n",
       "      <td>2656</td>\n",
       "      <td>7.2250</td>\n",
       "      <td>NaN</td>\n",
       "      <td>C</td>\n",
       "      <td>NaN</td>\n",
       "      <td>304.0</td>\n",
       "      <td>NaN</td>\n",
       "    </tr>\n",
       "    <tr>\n",
       "      <th>1307</th>\n",
       "      <td>3.0</td>\n",
       "      <td>0.0</td>\n",
       "      <td>Zakarian, Mr. Ortin</td>\n",
       "      <td>male</td>\n",
       "      <td>27.0000</td>\n",
       "      <td>0.0</td>\n",
       "      <td>0.0</td>\n",
       "      <td>2670</td>\n",
       "      <td>7.2250</td>\n",
       "      <td>NaN</td>\n",
       "      <td>C</td>\n",
       "      <td>NaN</td>\n",
       "      <td>NaN</td>\n",
       "      <td>NaN</td>\n",
       "    </tr>\n",
       "    <tr>\n",
       "      <th>1308</th>\n",
       "      <td>3.0</td>\n",
       "      <td>0.0</td>\n",
       "      <td>Zimmerman, Mr. Leo</td>\n",
       "      <td>male</td>\n",
       "      <td>29.0000</td>\n",
       "      <td>0.0</td>\n",
       "      <td>0.0</td>\n",
       "      <td>315082</td>\n",
       "      <td>7.8750</td>\n",
       "      <td>NaN</td>\n",
       "      <td>S</td>\n",
       "      <td>NaN</td>\n",
       "      <td>NaN</td>\n",
       "      <td>NaN</td>\n",
       "    </tr>\n",
       "  </tbody>\n",
       "</table>\n",
       "<p>1309 rows × 14 columns</p>\n",
       "</div>"
      ],
      "text/plain": [
       "      pclass  survived                                             name  \\\n",
       "0        1.0       1.0                    Allen, Miss. Elisabeth Walton   \n",
       "1        1.0       1.0                   Allison, Master. Hudson Trevor   \n",
       "2        1.0       0.0                     Allison, Miss. Helen Loraine   \n",
       "3        1.0       0.0             Allison, Mr. Hudson Joshua Creighton   \n",
       "4        1.0       0.0  Allison, Mrs. Hudson J C (Bessie Waldo Daniels)   \n",
       "...      ...       ...                                              ...   \n",
       "1304     3.0       0.0                             Zabour, Miss. Hileni   \n",
       "1305     3.0       0.0                            Zabour, Miss. Thamine   \n",
       "1306     3.0       0.0                        Zakarian, Mr. Mapriededer   \n",
       "1307     3.0       0.0                              Zakarian, Mr. Ortin   \n",
       "1308     3.0       0.0                               Zimmerman, Mr. Leo   \n",
       "\n",
       "         sex      age  sibsp  parch  ticket      fare    cabin embarked boat  \\\n",
       "0     female  29.0000    0.0    0.0   24160  211.3375       B5        S    2   \n",
       "1       male   0.9167    1.0    2.0  113781  151.5500  C22 C26        S   11   \n",
       "2     female   2.0000    1.0    2.0  113781  151.5500  C22 C26        S  NaN   \n",
       "3       male  30.0000    1.0    2.0  113781  151.5500  C22 C26        S  NaN   \n",
       "4     female  25.0000    1.0    2.0  113781  151.5500  C22 C26        S  NaN   \n",
       "...      ...      ...    ...    ...     ...       ...      ...      ...  ...   \n",
       "1304  female  14.5000    1.0    0.0    2665   14.4542      NaN        C  NaN   \n",
       "1305  female  28.0000    1.0    0.0    2665   14.4542      NaN        C  NaN   \n",
       "1306    male  26.5000    0.0    0.0    2656    7.2250      NaN        C  NaN   \n",
       "1307    male  27.0000    0.0    0.0    2670    7.2250      NaN        C  NaN   \n",
       "1308    male  29.0000    0.0    0.0  315082    7.8750      NaN        S  NaN   \n",
       "\n",
       "       body                        home.dest  \n",
       "0       NaN                     St Louis, MO  \n",
       "1       NaN  Montreal, PQ / Chesterville, ON  \n",
       "2       NaN  Montreal, PQ / Chesterville, ON  \n",
       "3     135.0  Montreal, PQ / Chesterville, ON  \n",
       "4       NaN  Montreal, PQ / Chesterville, ON  \n",
       "...     ...                              ...  \n",
       "1304  328.0                              NaN  \n",
       "1305    NaN                              NaN  \n",
       "1306  304.0                              NaN  \n",
       "1307    NaN                              NaN  \n",
       "1308    NaN                              NaN  \n",
       "\n",
       "[1309 rows x 14 columns]"
      ]
     },
     "execution_count": 197,
     "metadata": {},
     "output_type": "execute_result"
    }
   ],
   "source": [
    "df_clean"
   ]
  },
  {
   "cell_type": "code",
   "execution_count": null,
   "id": "5b8187b2-e3be-4619-852d-52f57b045735",
   "metadata": {},
   "outputs": [],
   "source": []
  },
  {
   "cell_type": "code",
   "execution_count": null,
   "id": "e3852d03-1c27-42cb-b05c-0883f77a5bc7",
   "metadata": {},
   "outputs": [],
   "source": []
  },
  {
   "cell_type": "code",
   "execution_count": null,
   "id": "832b34c3-d711-4fa9-b9f5-e3b83ba14de4",
   "metadata": {},
   "outputs": [],
   "source": []
  },
  {
   "cell_type": "code",
   "execution_count": 155,
   "id": "cdc6cfd3-93c3-494d-acb8-16424fd2da66",
   "metadata": {},
   "outputs": [],
   "source": [
    "# Binning for age\n",
    "bins = [0, 10, 20, 30, 40, 50, 60, 70, 80, 90]\n",
    "df_clean_bins['age_binned'] = pd.cut(df_clean.age, bins, right=True, include_lowest=False)\n",
    "# child variable\n",
    "df_clean['child'] = (df_clean.age < 16).astype(int)\n",
    "surv = df_clean[df_clean.survived == 1]\n",
    "\n",
    "order = ['(0, 10]', '(10, 20]', '(20, 30]', '(30, 40]', '(40, 50]', '(50, 60]',\n",
    "         '(60, 70]', '(70, 80]']"
   ]
  },
  {
   "cell_type": "code",
   "execution_count": 163,
   "id": "51af217b-eaf9-4eab-b835-75a23600a30c",
   "metadata": {},
   "outputs": [
    {
     "data": {
      "text/plain": [
       "Text(0, 0.5, '')"
      ]
     },
     "execution_count": 163,
     "metadata": {},
     "output_type": "execute_result"
    },
    {
     "data": {
      "image/png": "[encoded data removed]",
      "text/plain": [
       "<Figure size 1200x1400 with 4 Axes>"
      ]
     },
     "metadata": {},
     "output_type": "display_data"
    }
   ],
   "source": [
    "fig, ([ax1,ax2],[ax3,ax4]) = plt.subplots(2,2,figsize=(12,14))\n",
    "\n",
    "sns.set_style('dark')\n",
    "order = ['(0, 10]', '(10, 20]', '(20, 30]', '(30, 40]', '(40, 50]', '(50, 60]',\n",
    "         '(60, 70]', '(70, 80]']\n",
    "\n",
    "# 1st Graph\n",
    "sns.countplot(x='age_binned', color='white', ax=ax1, data=df_clean, order=order)\n",
    "sns.countplot(x='age_binned', ax=ax1, data=surv, order=order)\n",
    "plt.xlabel('Age Group')\n",
    "plt.ylabel('Total / Survived')  \n",
    "ax1.set_title('Age')\n",
    "ax1.set_xlabel('Age Group')\n",
    "ax1.set_ylabel('Number Survived')\n",
    "\n",
    "# 2nd Graph\n",
    "sns.set_style('dark')\n",
    "sns.countplot(x='sex', color='white', ax=ax2, data=df_clean, order=['male','female'])\n",
    "sns.countplot(x='sex', ax=ax2, data=surv,  order=['male','female'])\n",
    "plt.ylabel('Survived')\n",
    "ax2.set_xlabel('')\n",
    "ax2.set_title('Gender')\n",
    "ax2.set_ylabel('')\n",
    "\n",
    "# 3rd Graph\n",
    "sns.countplot(x='pclass', color='white', ax=ax3, data=df_clean,  order=[1, 2, 3])\n",
    "sns.countplot(x='pclass', ax=ax3, data=surv,  order=[1, 2, 3])\n",
    "ax3.set_title('Passenger Class')\n",
    "ax3.set_ylabel('Number Survived')\n",
    "ax3.set_xlabel('Class')\n",
    "\n",
    "# 4th Graph\n",
    "sns.countplot(x='child', color='white', ax=ax4, data=df_clean, order=[1,0])\n",
    "sns.countplot(x='child', ax=ax4, data=surv, order=[1,0])\n",
    "loc, labels = plt.xticks()\n",
    "plt.xticks(loc,['Child (<16 yrs)','Not Child'])\n",
    "plt.ylabel('Survived')\n",
    "ax4.set_title('Children')\n",
    "ax4.set_ylabel('')"
   ]
  },
  {
   "cell_type": "code",
   "execution_count": null,
   "id": "24ce17ce-7e24-4057-a81c-e39d72d5187d",
   "metadata": {},
   "outputs": [],
   "source": []
  },
  {
   "cell_type": "code",
   "execution_count": null,
   "id": "02addb48-78d2-4174-b315-7ab56733aa4f",
   "metadata": {},
   "outputs": [],
   "source": []
  },
  {
   "cell_type": "code",
   "execution_count": 167,
   "id": "363dea30-51a9-47d8-901d-927214bf75c5",
   "metadata": {},
   "outputs": [],
   "source": []
  },
  {
   "cell_type": "code",
   "execution_count": null,
   "id": "9db3141f-b837-4839-8b87-08bf165f7866",
   "metadata": {},
   "outputs": [],
   "source": []
  },
  {
   "cell_type": "code",
   "execution_count": null,
   "id": "ee24c88d-1923-4d9b-80b3-7536b3f04898",
   "metadata": {},
   "outputs": [],
   "source": []
  },
  {
   "cell_type": "code",
   "execution_count": null,
   "id": "906e3d14-5394-4400-8dc8-0e24834acbb6",
   "metadata": {},
   "outputs": [],
   "source": []
  },
  {
   "cell_type": "code",
   "execution_count": null,
   "id": "23061700-7835-42dc-a0bb-41209ef007a0",
   "metadata": {},
   "outputs": [],
   "source": []
  },
  {
   "cell_type": "code",
   "execution_count": null,
   "id": "ef746363-5d93-43ea-b67d-303f9d0b8d9b",
   "metadata": {},
   "outputs": [],
   "source": []
  },
  {
   "cell_type": "code",
   "execution_count": null,
   "id": "a7b368bb-d24d-4935-8560-a783e8dbe4cf",
   "metadata": {},
   "outputs": [],
   "source": []
  },
  {
   "cell_type": "code",
   "execution_count": null,
   "id": "08bd4b23-2d95-4aaf-bb2a-4fb632cac8d9",
   "metadata": {},
   "outputs": [],
   "source": []
  },
  {
   "cell_type": "code",
   "execution_count": null,
   "id": "e822bc2c-2a30-49c4-bfbc-04838dc5deb5",
   "metadata": {},
   "outputs": [],
   "source": []
  },
  {
   "cell_type": "code",
   "execution_count": null,
   "id": "e3ebcd77-8408-4b46-b78f-8f791181b13e",
   "metadata": {},
   "outputs": [],
   "source": []
  },
  {
   "cell_type": "code",
   "execution_count": null,
   "id": "b2f66873-354b-4eb6-939c-705f2d4dcb1e",
   "metadata": {},
   "outputs": [],
   "source": []
  },
  {
   "cell_type": "code",
   "execution_count": null,
   "id": "0769274b-3f57-4add-870c-536165544363",
   "metadata": {},
   "outputs": [],
   "source": []
  },
  {
   "cell_type": "code",
   "execution_count": null,
   "id": "5c187ca7-cfdd-4a23-a2e8-effed30712f6",
   "metadata": {},
   "outputs": [],
   "source": []
  },
  {
   "cell_type": "code",
   "execution_count": null,
   "id": "e7ca5967-bb12-46ff-a705-209c4a2f7999",
   "metadata": {},
   "outputs": [],
   "source": []
  },
  {
   "cell_type": "code",
   "execution_count": null,
   "id": "ef4c654f-9156-46f1-ab4b-aa81ebb4a0c2",
   "metadata": {},
   "outputs": [],
   "source": []
  },
  {
   "cell_type": "code",
   "execution_count": null,
   "id": "6f340889-4dae-4b22-89d1-fd1e94e03a59",
   "metadata": {},
   "outputs": [],
   "source": []
  },
  {
   "cell_type": "code",
   "execution_count": null,
   "id": "031d48e3-988e-4486-aebc-bdc7da57382d",
   "metadata": {},
   "outputs": [],
   "source": []
  },
  {
   "cell_type": "code",
   "execution_count": null,
   "id": "1c7a274f-bc1e-49cf-9fd0-5a6359449c72",
   "metadata": {},
   "outputs": [],
   "source": []
  },
  {
   "cell_type": "code",
   "execution_count": null,
   "id": "b7229cd8-a5e7-4728-8df4-fb73294710b6",
   "metadata": {},
   "outputs": [],
   "source": []
  },
  {
   "cell_type": "code",
   "execution_count": null,
   "id": "6acd91d1-6890-41ba-9a84-3393575df56b",
   "metadata": {},
   "outputs": [],
   "source": []
  },
  {
   "cell_type": "code",
   "execution_count": null,
   "id": "87ad05eb-8c6f-42f3-af2b-2b952b2b4cae",
   "metadata": {},
   "outputs": [],
   "source": []
  },
  {
   "cell_type": "code",
   "execution_count": null,
   "id": "6d0c7459-d473-42f8-b69c-1f3b7499f5a8",
   "metadata": {},
   "outputs": [],
   "source": []
  },
  {
   "cell_type": "code",
   "execution_count": null,
   "id": "6aade114-d10f-45e4-9b66-a49dae0a42d5",
   "metadata": {},
   "outputs": [],
   "source": []
  },
  {
   "cell_type": "code",
   "execution_count": null,
   "id": "ab4332bb-e89e-47ca-a71d-71eac9448d94",
   "metadata": {},
   "outputs": [],
   "source": []
  },
  {
   "cell_type": "markdown",
   "id": "03692af5-9424-4bb6-b00f-1caf02f5ceb4",
   "metadata": {},
   "source": [
    "จาก heatmap \n",
    "สิ่งที่เราสนใจคือจะ predict survived เราไม่ได้แคร์อย่างอื่นเช่นage correlateกับsibsp \\\n",
    "\n",
    "negative correlated (-) is equally interesting as possitive correlated (+) ปัญหาคือมันไม่บอกอะไรมากเมื่อค่ามันใกล้ 0 เพราะ 0หมายถึงประมาณว่า random stuff ส่วน 1 คือมีความแปรผันตรงกัน -1 คือมีความแปรผกผันกัน \n",
    "\n",
    "survived correlate กับตัวมันเองเลยเป็น 1 แต่ละตัวจะเป็นเส้นแทยง diagonal \n",
    "\n",
    "pclass กับ survived เป็น highly negative correlated ก็คือแปรผกผันกัน ก็คือยิ่งเลขpclassต่ำ(ชั้น1)จะยิ่งมีโอกาสรอดสูง \\\n",
    "fare กับ survived ก็เป็น positive แรง ก็คือยิ่งจ่ายแพง ยิ่งรอดฃ\n",
    "ดูpclassกับfare เป็น neg แรง ก็เมคเซ้นเพราะ ยิ่งจ่ายถูกยิ่งได้ชั้น3\n",
    "\n",
    "แต่ในแมปไม่มีเพศ เพราะมันไม่ใช่เลข ก็เปลี่ยนdataนิดหน่อย"
   ]
  },
  {
   "cell_type": "markdown",
   "id": "af47ae6f-bf3b-47e1-8bac-ad3e1255b8d3",
   "metadata": {},
   "source": [
    "Categories \n",
    "\n",
    "Further, to understand the categorical and non-categorical features, I had a look at the number of unique values each column had. The attributes ‘Sex’ and ‘Survived’ had two possible values, properties ‘Embarked’ & ‘Pclass’ had three possible values."
   ]
  },
  {
   "cell_type": "code",
   "execution_count": null,
   "id": "a621b71f-76ac-4173-a42b-a906f70e46f8",
   "metadata": {},
   "outputs": [
    {
     "data": {
      "text/plain": [
       "pclass          3\n",
       "survived        2\n",
       "name         1307\n",
       "sex             2\n",
       "age            98\n",
       "sibsp           7\n",
       "parch           8\n",
       "ticket        929\n",
       "fare          281\n",
       "cabin         186\n",
       "embarked        3\n",
       "boat           27\n",
       "body          121\n",
       "home.dest     369\n",
       "dtype: int64"
      ]
     },
     "execution_count": 12,
     "metadata": {},
     "output_type": "execute_result"
    }
   ],
   "source": [
    "df.nunique()"
   ]
  },
  {
   "cell_type": "markdown",
   "id": "aeb21458-c506-41cf-80c1-402232241196",
   "metadata": {},
   "source": [
    "Features\n",
    "\n",
    "After getting a better perception of the different aspects of the dataset, I started exploring the features and the part they played in the survival or demise of a traveler.\n",
    "\n",
    "1. Survived\n",
    "\n",
    "The first feature reported if a traveler lived or died. A comparison revealed that more than 60% of the passengers had died.\n",
    "\n",
    "2. Pclass\n"
   ]
  },
  {
   "cell_type": "code",
   "execution_count": 15,
   "id": "04e10aa5-84c3-4e46-8b18-8d8c2b523cda",
   "metadata": {},
   "outputs": [
    {
     "data": {
      "image/png": "[encoded data removed]",
      "text/plain": [
       "<Figure size 800x800 with 1 Axes>"
      ]
     },
     "metadata": {},
     "output_type": "display_data"
    }
   ],
   "source": [
    "# Survived Viz\n",
    "import matplotlib.pyplot as plt\n",
    "# or from matplotlib import pyplot as plt\n",
    "\n",
    "# creates a copy of the original DataFrame df. This is a good practice to avoid modifying the original DataFrame when creating additional columns or making changes.\n",
    "df_pie = df.copy()\n",
    "# Map values to labels\n",
    "# The mapping assigns the label 'Survived' for a value of 1.0 and 'Died' for a value of 0.0.\n",
    "df_pie['survived'] = df['survived'].map({1.0: 'Survived', 0.0: 'Died'})\n",
    "\n",
    "# Count the occurrences of each label\n",
    "# calculates the counts of each unique value in the 'survived' column. It gives you the number of occurrences for 'Survived' and 'Died'.\n",
    "label_counts = df_pie['survived'].value_counts()\n",
    "\n",
    "# Plotting the pie chart\n",
    "plt.figure(figsize=(8, 8))\n",
    "# the code creates a pie chart using plt.pie(). It takes the counts (label_counts) and corresponding labels (label_counts.index). \n",
    "#The autopct parameter formats the label with a percentage, and startangle sets the starting angle of the pie chart.\n",
    "plt.pie(label_counts, labels=label_counts.index, autopct='%1.1f%%', startangle=140)\n",
    "\n",
    "\"\"\"\n",
    "    label_counts: This is the array or sequence containing the values to be plotted in the pie chart. In this case, \n",
    "    it's the counts of each unique value in the 'survived' column.\n",
    "\n",
    "    labels=label_counts.index: This parameter specifies the labels for each wedge in the pie chart. In this case, \n",
    "    it uses the index of the label_counts series, which represents the unique values ('Survived' and 'Died').\n",
    "\n",
    "    autopct='%1.1f%%': This parameter controls the formatting of the labels on each wedge. \n",
    "    The %1.1f%% specifies that the labels should be formatted as floating-point numbers with one digit before the decimal point and one digit after, \n",
    "    followed by a percentage sign.\n",
    "\n",
    "    startangle=140: This parameter sets the starting angle for the pie chart. \n",
    "    The default starting angle is 0 degrees, and it increases counterclockwise. \n",
    "    In this case, it starts at 140 degrees, which can be used to rotate the pie chart if needed for better visualization.\n",
    "\n",
    "So, when you put it all together, this line is creating a pie chart with counts as values, \n",
    "using the labels from the index of the label_counts series, formatting the labels as percentages, and starting the first wedge at an angle of 140 degrees.\n",
    "\"\"\"\n",
    "\n",
    "#sets the style of the plot. In this case, it's using the \"fivethirtyeight\" style, which is a popular style known for its clean and modern appearance.\n",
    "plt.style.use(\"fivethirtyeight\")\n",
    "# title name for the head of table\n",
    "plt.title(\"Survival Percentile\")\n",
    "# make default padding looks nice  adjusts the spacing between subplots to make the layout more visually appealing.\n",
    "plt.tight_layout()\n",
    "# show graph\n",
    "plt.show()\n",
    "\n",
    "# colors:\n",
    "# blue : #008fd5\n",
    "# red : #fc4f30\n",
    "# yellow : #e5ae37\n",
    "# green : #6d904f"
   ]
  },
  {
   "cell_type": "markdown",
   "id": "8c4df8c6-1f46-491f-a4b3-94071a722aab",
   "metadata": {},
   "source": [
    "3. Sex\n",
    "\n",
    "Approximately 65% of the tourists were male while the remaining 35% were female. Nonetheless, the percentage of female survivors was higher than the number of male survivors. More than 80% of male commuters died, as compared to around 70% female commuters.\n",
    "\n",
    "4. Age\n",
    "\n",
    "The youngest traveler onboard was aged around two months and the oldest traveler was 80 years. The average age of tourists onboard was just under 30 years. Clearly, a larger fraction of children under 10 survived than died. or every other age group, the number of casualties was higher than the number of survivors. More than 140 people within the age group 20 and 30 were dead as compared to just around 80 people of the same age range sustained.\n",
    "\n",
    "5. SibSp\n",
    "\n",
    "SibSp is the number of siblings or spouse of a person onboard. A maximum of 8 siblings and spouses traveled along with one of the traveler. More than 90% of people traveled alone or with one of their sibling or spouse. The chances of survival dropped drastically if someone traveled with more than 2 siblings or spouse."
   ]
  },
  {
   "cell_type": "code",
   "execution_count": null,
   "id": "d2c9ce67-77f7-49ce-8aa4-9a25a90135ad",
   "metadata": {},
   "outputs": [],
   "source": []
  },
  {
   "cell_type": "markdown",
   "id": "6788e2ab-d45b-4dfd-91b7-0321557d4125",
   "metadata": {},
   "source": [
    "6. Parch\n",
    "\n",
    "Similar to the SibSp, this feature contained the number of parents or children each passenger was touring with. A maximum of 9 parents/children traveled along with one of the traveler.\n",
    "\n",
    "I added the number of ‘Parch’ and ‘SibSp’ values to store in a new column named ‘Family’\n",
    "\n"
   ]
  },
  {
   "cell_type": "code",
   "execution_count": null,
   "id": "9286e3fa-8a1b-479c-9603-d91300d99f4b",
   "metadata": {},
   "outputs": [],
   "source": []
  }
 ],
 "metadata": {
  "kernelspec": {
   "display_name": "Python 3 (ipykernel)",
   "language": "python",
   "name": "python3"
  },
  "language_info": {
   "codemirror_mode": {
    "name": "ipython",
    "version": 3
   },
   "file_extension": ".py",
   "mimetype": "text/x-python",
   "name": "python",
   "nbconvert_exporter": "python",
   "pygments_lexer": "ipython3",
   "version": "3.10.9"
  }
 },
 "nbformat": 4,
 "nbformat_minor": 5
}
